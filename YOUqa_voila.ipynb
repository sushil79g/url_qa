{
 "cells": [
  {
   "cell_type": "code",
   "execution_count": null,
   "metadata": {
    "id": "1f6RfjmUBv88"
   },
   "outputs": [],
   "source": [
    "import re\n",
    "# import streamlit as st\n",
    "import time\n",
    "import torch\n",
    "\n",
    "from src.sst import download_wav_file, extract_text, load_model\n",
    "from src.qna import answer_ques\n",
    "\n",
    "from farm.infer import Inferencer\n",
    "\n",
    "from ipywidgets import interact, interactive, fixed, interact_manual,widgets\n",
    "from IPython.display import display, YouTubeVideo"
   ]
  },
  {
   "cell_type": "code",
   "execution_count": 64,
   "metadata": {
    "id": "MU-FsubnB4i4"
   },
   "outputs": [],
   "source": [
    "def qna(text,question,nlp):\n",
    "    answer = answer_ques(text, question, nlp)\n",
    "    return answer"
   ]
  },
  {
   "cell_type": "code",
   "execution_count": 72,
   "metadata": {
    "colab": {
     "base_uri": "https://localhost:8080/",
     "height": 463
    },
    "id": "pGBDwtqwB4lE",
    "outputId": "b146a765-6f30-40ec-820e-319c11163b9b"
   },
   "outputs": [
    {
     "data": {
      "application/vnd.google.colaboratory.intrinsic+json": {
       "type": "string"
      },
      "text/plain": [
       "'Loading the QnA model'"
      ]
     },
     "metadata": {
      "tags": []
     },
     "output_type": "display_data"
    },
    {
     "name": "stderr",
     "output_type": "stream",
     "text": [
      "01/05/2021 05:19:28 - INFO - farm.utils -   Using device: CPU \n",
      "01/05/2021 05:19:28 - INFO - farm.utils -   Number of GPUs: 0\n",
      "01/05/2021 05:19:28 - INFO - farm.utils -   Distributed Training: False\n",
      "01/05/2021 05:19:28 - INFO - farm.utils -   Automatic Mixed Precision: None\n",
      "01/05/2021 05:19:28 - INFO - farm.modeling.language_model -   \n",
      "01/05/2021 05:19:28 - INFO - farm.modeling.language_model -   LOADING MODEL\n",
      "01/05/2021 05:19:28 - INFO - farm.modeling.language_model -   =============\n",
      "01/05/2021 05:19:28 - INFO - farm.modeling.language_model -   Could not find deepset/roberta-base-squad2 locally.\n",
      "01/05/2021 05:19:28 - INFO - farm.modeling.language_model -   Looking on Transformers Model Hub (in local cache and online)...\n",
      "Some weights of RobertaModel were not initialized from the model checkpoint at deepset/roberta-base-squad2 and are newly initialized: ['roberta.pooler.dense.weight', 'roberta.pooler.dense.bias']\n",
      "You should probably TRAIN this model on a down-stream task to be able to use it for predictions and inference.\n",
      "01/05/2021 05:19:32 - INFO - farm.modeling.language_model -   Loaded deepset/roberta-base-squad2\n",
      "01/05/2021 05:19:36 - INFO - farm.modeling.prediction_head -   Prediction head initialized with size [768, 2]\n",
      "01/05/2021 05:19:37 - INFO - farm.modeling.tokenization -   Loading tokenizer of type 'RobertaTokenizer'\n",
      "01/05/2021 05:19:38 - WARNING - farm.utils -   ML Logging is turned off. No parameters, metrics or artifacts will be logged to MLFlow.\n",
      "01/05/2021 05:19:38 - INFO - farm.utils -   Using device: CPU \n",
      "01/05/2021 05:19:38 - INFO - farm.utils -   Number of GPUs: 0\n",
      "01/05/2021 05:19:38 - INFO - farm.utils -   Distributed Training: False\n",
      "01/05/2021 05:19:38 - INFO - farm.utils -   Automatic Mixed Precision: None\n",
      "01/05/2021 05:19:38 - INFO - farm.infer -   Got ya 2 parallel workers to do inference ...\n",
      "01/05/2021 05:19:38 - INFO - farm.infer -    0    0 \n",
      "01/05/2021 05:19:39 - INFO - farm.infer -   /w\\  /w\\\n",
      "01/05/2021 05:19:39 - INFO - farm.infer -   /'\\  / \\\n",
      "01/05/2021 05:19:39 - INFO - farm.infer -     \n"
     ]
    }
   ],
   "source": [
    "model_name=\"deepset/roberta-base-squad2\"\n",
    "display(\"Loading the QnA model\")\n",
    "\n",
    "device = \"gpu\" if torch.cuda.is_available() else \"cpu\"\n",
    "if device == \"gpu\":\n",
    "    nlp = Inferencer.load(model_name, task_type=\"question_answering\", gpu=True)\n",
    "else:\n",
    "    nlp = Inferencer.load(model_name, task_type=\"question_answering\", gpu=False)\n",
    "\n",
    "def extract(title):\n",
    "  name = re.sub(r'[^\\w\\s]','_',title)+\".wav\"\n",
    "  model, decoder, utils, device = load_model()\n",
    "  text = extract_text(model, decoder, utils, device, video_url=title, video_name=name)\n",
    "  return text\n"
   ]
  },
  {
   "cell_type": "code",
   "execution_count": 50,
   "metadata": {
    "id": "GnzRYNJ0B4oh"
   },
   "outputs": [],
   "source": [
    "def filter_answer(answer=[]):\n",
    "  if answer[0]['score']>5:\n",
    "    answer_prob = []\n",
    "    for ans in answer:\n",
    "      if ans['score'] >=5:\n",
    "        answer_prob.append(ans['answer'])\n",
    "    return answer_prob\n",
    "  else:\n",
    "    return answer[0]['answer']"
   ]
  },
  {
   "cell_type": "code",
   "execution_count": 73,
   "metadata": {
    "colab": {
     "base_uri": "https://localhost:8080/",
     "height": 423,
     "referenced_widgets": [
      "9d2b439823d9403b83283bd5940fd159",
      "da28a32b57264c39a90f58a7e654c20b",
      "af65aab41c7b43d1a118b042b24547f4",
      "17aa95fac444468daf90981bba1a26a1",
      "3a4e827f8bfe4443ae82fcf12ba9f0dc",
      "484a6260cba0491b8383cbdd7db4af54",
      "2f7e54a6e32e46b3aef2d15f9fcdbf29",
      "7370d5a250f14eb7a2aa8732290c02a1"
     ]
    },
    "id": "8jRtekMtFlvh",
    "outputId": "8ddcb54b-1fb0-4efd-eb5b-a7ce480639a7"
   },
   "outputs": [
    {
     "data": {
      "application/vnd.jupyter.widget-view+json": {
       "model_id": "9d2b439823d9403b83283bd5940fd159",
       "version_major": 2,
       "version_minor": 0
      },
      "text/plain": [
       "HBox(children=(Text(value='', description='YOutube link:'), Button(description='Click Me!', style=ButtonStyle(…"
      ]
     },
     "metadata": {
      "tags": []
     },
     "output_type": "display_data"
    },
    {
     "name": "stdout",
     "output_type": "stream",
     "text": [
      "Extracting the text from YOutube:\n"
     ]
    },
    {
     "data": {
      "text/html": [
       "\n",
       "        <iframe\n",
       "            width=\"400\"\n",
       "            height=\"300\"\n",
       "            src=\"https://www.youtube.com/embed/https://www.youtube.com/watch?v=DSkcrXMd7fo\"\n",
       "            frameborder=\"0\"\n",
       "            allowfullscreen\n",
       "        ></iframe>\n",
       "        "
      ],
      "text/plain": [
       "<IPython.lib.display.YouTubeVideo at 0x7f801e676cf8>"
      ]
     },
     "metadata": {
      "tags": []
     },
     "output_type": "display_data"
    },
    {
     "data": {
      "application/vnd.google.colaboratory.intrinsic+json": {
       "type": "string"
      },
      "text/plain": [
       "'Text extraction on progress'"
      ]
     },
     "metadata": {
      "tags": []
     },
     "output_type": "display_data"
    },
    {
     "name": "stderr",
     "output_type": "stream",
     "text": [
      "Using cache found in /root/.cache/torch/hub/snakers4_silero-models_master\n"
     ]
    },
    {
     "data": {
      "application/vnd.google.colaboratory.intrinsic+json": {
       "type": "string"
      },
      "text/plain": [
       "'Text extraction Complete'"
      ]
     },
     "metadata": {
      "tags": []
     },
     "output_type": "display_data"
    }
   ],
   "source": [
    "inp = widgets.Text(description='YOutube link:')\n",
    "button = widgets.Button(description=\"Click Me!\")\n",
    "Box = widgets.HBox([inp,button])\n",
    "\n",
    "Text = []\n",
    "\n",
    "def on_button_clicked(b):\n",
    "    # value_list.append(inp.value)\n",
    "    print(\"Extracting the text from YOutube:\")\n",
    "    try:\n",
    "      display(YouTubeVideo(inp.value))\n",
    "    except:\n",
    "      display(print(\"The link is broken\"))\n",
    "      return 0\n",
    "    display(\"Text extraction on progress\")\n",
    "    extracted_text = extract(inp.value)\n",
    "    display(\"Text extraction Complete\")\n",
    "    Text.append(extracted_text)\n",
    "    return Text\n",
    "\n",
    "display(Box)\n",
    "button.on_click(on_button_clicked)"
   ]
  },
  {
   "cell_type": "code",
   "execution_count": 76,
   "metadata": {
    "colab": {
     "base_uri": "https://localhost:8080/",
     "height": 186,
     "referenced_widgets": [
      "02db193d8b7a49c78e85edc430ba81b3",
      "217c5928168148d180ae0067fa706678",
      "a8f11069a7874c87aff30cf69a806aff",
      "88a4b554fc2d4c99b73c83fa2509ac5f",
      "76cbe96ee5d84f0fa44b3f9200e6853c",
      "4f96f88d3c8847a79ec3143bf1ac7679",
      "5586b13a98354ce5a0847c9e4c40703f",
      "364afbfa92de4bff9d2aece312b797ce"
     ]
    },
    "id": "j-LmKRN9EdoM",
    "outputId": "3f95effd-2b27-4bd9-ce56-a4442b5d3683"
   },
   "outputs": [
    {
     "data": {
      "application/vnd.jupyter.widget-view+json": {
       "model_id": "02db193d8b7a49c78e85edc430ba81b3",
       "version_major": 2,
       "version_minor": 0
      },
      "text/plain": [
       "HBox(children=(Text(value='', description='Question'), Button(description='Answer', style=ButtonStyle())))"
      ]
     },
     "metadata": {
      "tags": []
     },
     "output_type": "display_data"
    },
    {
     "name": "stderr",
     "output_type": "stream",
     "text": [
      "Inferencing Samples: 100%|██████████| 5/5 [00:16<00:00,  3.28s/ Batches]"
     ]
    },
    {
     "name": "stdout",
     "output_type": "stream",
     "text": [
      "biden team\n",
      "no_answer\n",
      "president trump\n",
      "president trump\n",
      "republicans\n"
     ]
    },
    {
     "name": "stderr",
     "output_type": "stream",
     "text": [
      "\n"
     ]
    },
    {
     "data": {
      "application/vnd.google.colaboratory.intrinsic+json": {
       "type": "string"
      },
      "text/plain": [
       "'Predicted Answer'"
      ]
     },
     "metadata": {
      "tags": []
     },
     "output_type": "display_data"
    },
    {
     "data": {
      "text/plain": [
       "['biden team']"
      ]
     },
     "metadata": {
      "tags": []
     },
     "output_type": "display_data"
    }
   ],
   "source": [
    "inp2 = widgets.Text(description='Question')\n",
    "button2 = widgets.Button(description=\"Answer\")\n",
    "Box2 = widgets.HBox([inp2,button2])\n",
    "def question(b):\n",
    "    # value_list.append(inp.value)\n",
    "    # display(inp2.value)\n",
    "    # display(Text[-1])\n",
    "    ans = qna(Text[-1], inp2.value, nlp)\n",
    "    filtered_ans = filter_answer(ans)\n",
    "    display(\"Predicted Answer\",filtered_ans)\n",
    "    return None\n",
    "\n",
    "display(Box2)\n",
    "button2.on_click(question)"
   ]
  }
 ],
 "metadata": {
  "colab": {
   "name": "YOUqa_voila.ipynb",
   "provenance": []
  },
  "kernelspec": {
   "display_name": "Python 3",
   "language": "python",
   "name": "python3"
  },
  "language_info": {
   "codemirror_mode": {
    "name": "ipython",
    "version": 3
   },
   "file_extension": ".py",
   "mimetype": "text/x-python",
   "name": "python",
   "nbconvert_exporter": "python",
   "pygments_lexer": "ipython3",
   "version": "3.8.5"
  },
  "widgets": {
   "application/vnd.jupyter.widget-state+json": {
    "02db193d8b7a49c78e85edc430ba81b3": {
     "model_module": "@jupyter-widgets/controls",
     "model_name": "HBoxModel",
     "state": {
      "_dom_classes": [],
      "_model_module": "@jupyter-widgets/controls",
      "_model_module_version": "1.5.0",
      "_model_name": "HBoxModel",
      "_view_count": null,
      "_view_module": "@jupyter-widgets/controls",
      "_view_module_version": "1.5.0",
      "_view_name": "HBoxView",
      "box_style": "",
      "children": [
       "IPY_MODEL_a8f11069a7874c87aff30cf69a806aff",
       "IPY_MODEL_88a4b554fc2d4c99b73c83fa2509ac5f"
      ],
      "layout": "IPY_MODEL_217c5928168148d180ae0067fa706678"
     }
    },
    "17aa95fac444468daf90981bba1a26a1": {
     "model_module": "@jupyter-widgets/controls",
     "model_name": "ButtonModel",
     "state": {
      "_dom_classes": [],
      "_model_module": "@jupyter-widgets/controls",
      "_model_module_version": "1.5.0",
      "_model_name": "ButtonModel",
      "_view_count": null,
      "_view_module": "@jupyter-widgets/controls",
      "_view_module_version": "1.5.0",
      "_view_name": "ButtonView",
      "button_style": "",
      "description": "Click Me!",
      "disabled": false,
      "icon": "",
      "layout": "IPY_MODEL_7370d5a250f14eb7a2aa8732290c02a1",
      "style": "IPY_MODEL_2f7e54a6e32e46b3aef2d15f9fcdbf29",
      "tooltip": ""
     }
    },
    "217c5928168148d180ae0067fa706678": {
     "model_module": "@jupyter-widgets/base",
     "model_name": "LayoutModel",
     "state": {
      "_model_module": "@jupyter-widgets/base",
      "_model_module_version": "1.2.0",
      "_model_name": "LayoutModel",
      "_view_count": null,
      "_view_module": "@jupyter-widgets/base",
      "_view_module_version": "1.2.0",
      "_view_name": "LayoutView",
      "align_content": null,
      "align_items": null,
      "align_self": null,
      "border": null,
      "bottom": null,
      "display": null,
      "flex": null,
      "flex_flow": null,
      "grid_area": null,
      "grid_auto_columns": null,
      "grid_auto_flow": null,
      "grid_auto_rows": null,
      "grid_column": null,
      "grid_gap": null,
      "grid_row": null,
      "grid_template_areas": null,
      "grid_template_columns": null,
      "grid_template_rows": null,
      "height": null,
      "justify_content": null,
      "justify_items": null,
      "left": null,
      "margin": null,
      "max_height": null,
      "max_width": null,
      "min_height": null,
      "min_width": null,
      "object_fit": null,
      "object_position": null,
      "order": null,
      "overflow": null,
      "overflow_x": null,
      "overflow_y": null,
      "padding": null,
      "right": null,
      "top": null,
      "visibility": null,
      "width": null
     }
    },
    "2f7e54a6e32e46b3aef2d15f9fcdbf29": {
     "model_module": "@jupyter-widgets/controls",
     "model_name": "ButtonStyleModel",
     "state": {
      "_model_module": "@jupyter-widgets/controls",
      "_model_module_version": "1.5.0",
      "_model_name": "ButtonStyleModel",
      "_view_count": null,
      "_view_module": "@jupyter-widgets/base",
      "_view_module_version": "1.2.0",
      "_view_name": "StyleView",
      "button_color": null,
      "font_weight": ""
     }
    },
    "364afbfa92de4bff9d2aece312b797ce": {
     "model_module": "@jupyter-widgets/base",
     "model_name": "LayoutModel",
     "state": {
      "_model_module": "@jupyter-widgets/base",
      "_model_module_version": "1.2.0",
      "_model_name": "LayoutModel",
      "_view_count": null,
      "_view_module": "@jupyter-widgets/base",
      "_view_module_version": "1.2.0",
      "_view_name": "LayoutView",
      "align_content": null,
      "align_items": null,
      "align_self": null,
      "border": null,
      "bottom": null,
      "display": null,
      "flex": null,
      "flex_flow": null,
      "grid_area": null,
      "grid_auto_columns": null,
      "grid_auto_flow": null,
      "grid_auto_rows": null,
      "grid_column": null,
      "grid_gap": null,
      "grid_row": null,
      "grid_template_areas": null,
      "grid_template_columns": null,
      "grid_template_rows": null,
      "height": null,
      "justify_content": null,
      "justify_items": null,
      "left": null,
      "margin": null,
      "max_height": null,
      "max_width": null,
      "min_height": null,
      "min_width": null,
      "object_fit": null,
      "object_position": null,
      "order": null,
      "overflow": null,
      "overflow_x": null,
      "overflow_y": null,
      "padding": null,
      "right": null,
      "top": null,
      "visibility": null,
      "width": null
     }
    },
    "3a4e827f8bfe4443ae82fcf12ba9f0dc": {
     "model_module": "@jupyter-widgets/controls",
     "model_name": "DescriptionStyleModel",
     "state": {
      "_model_module": "@jupyter-widgets/controls",
      "_model_module_version": "1.5.0",
      "_model_name": "DescriptionStyleModel",
      "_view_count": null,
      "_view_module": "@jupyter-widgets/base",
      "_view_module_version": "1.2.0",
      "_view_name": "StyleView",
      "description_width": ""
     }
    },
    "484a6260cba0491b8383cbdd7db4af54": {
     "model_module": "@jupyter-widgets/base",
     "model_name": "LayoutModel",
     "state": {
      "_model_module": "@jupyter-widgets/base",
      "_model_module_version": "1.2.0",
      "_model_name": "LayoutModel",
      "_view_count": null,
      "_view_module": "@jupyter-widgets/base",
      "_view_module_version": "1.2.0",
      "_view_name": "LayoutView",
      "align_content": null,
      "align_items": null,
      "align_self": null,
      "border": null,
      "bottom": null,
      "display": null,
      "flex": null,
      "flex_flow": null,
      "grid_area": null,
      "grid_auto_columns": null,
      "grid_auto_flow": null,
      "grid_auto_rows": null,
      "grid_column": null,
      "grid_gap": null,
      "grid_row": null,
      "grid_template_areas": null,
      "grid_template_columns": null,
      "grid_template_rows": null,
      "height": null,
      "justify_content": null,
      "justify_items": null,
      "left": null,
      "margin": null,
      "max_height": null,
      "max_width": null,
      "min_height": null,
      "min_width": null,
      "object_fit": null,
      "object_position": null,
      "order": null,
      "overflow": null,
      "overflow_x": null,
      "overflow_y": null,
      "padding": null,
      "right": null,
      "top": null,
      "visibility": null,
      "width": null
     }
    },
    "4f96f88d3c8847a79ec3143bf1ac7679": {
     "model_module": "@jupyter-widgets/base",
     "model_name": "LayoutModel",
     "state": {
      "_model_module": "@jupyter-widgets/base",
      "_model_module_version": "1.2.0",
      "_model_name": "LayoutModel",
      "_view_count": null,
      "_view_module": "@jupyter-widgets/base",
      "_view_module_version": "1.2.0",
      "_view_name": "LayoutView",
      "align_content": null,
      "align_items": null,
      "align_self": null,
      "border": null,
      "bottom": null,
      "display": null,
      "flex": null,
      "flex_flow": null,
      "grid_area": null,
      "grid_auto_columns": null,
      "grid_auto_flow": null,
      "grid_auto_rows": null,
      "grid_column": null,
      "grid_gap": null,
      "grid_row": null,
      "grid_template_areas": null,
      "grid_template_columns": null,
      "grid_template_rows": null,
      "height": null,
      "justify_content": null,
      "justify_items": null,
      "left": null,
      "margin": null,
      "max_height": null,
      "max_width": null,
      "min_height": null,
      "min_width": null,
      "object_fit": null,
      "object_position": null,
      "order": null,
      "overflow": null,
      "overflow_x": null,
      "overflow_y": null,
      "padding": null,
      "right": null,
      "top": null,
      "visibility": null,
      "width": null
     }
    },
    "5586b13a98354ce5a0847c9e4c40703f": {
     "model_module": "@jupyter-widgets/controls",
     "model_name": "ButtonStyleModel",
     "state": {
      "_model_module": "@jupyter-widgets/controls",
      "_model_module_version": "1.5.0",
      "_model_name": "ButtonStyleModel",
      "_view_count": null,
      "_view_module": "@jupyter-widgets/base",
      "_view_module_version": "1.2.0",
      "_view_name": "StyleView",
      "button_color": null,
      "font_weight": ""
     }
    },
    "7370d5a250f14eb7a2aa8732290c02a1": {
     "model_module": "@jupyter-widgets/base",
     "model_name": "LayoutModel",
     "state": {
      "_model_module": "@jupyter-widgets/base",
      "_model_module_version": "1.2.0",
      "_model_name": "LayoutModel",
      "_view_count": null,
      "_view_module": "@jupyter-widgets/base",
      "_view_module_version": "1.2.0",
      "_view_name": "LayoutView",
      "align_content": null,
      "align_items": null,
      "align_self": null,
      "border": null,
      "bottom": null,
      "display": null,
      "flex": null,
      "flex_flow": null,
      "grid_area": null,
      "grid_auto_columns": null,
      "grid_auto_flow": null,
      "grid_auto_rows": null,
      "grid_column": null,
      "grid_gap": null,
      "grid_row": null,
      "grid_template_areas": null,
      "grid_template_columns": null,
      "grid_template_rows": null,
      "height": null,
      "justify_content": null,
      "justify_items": null,
      "left": null,
      "margin": null,
      "max_height": null,
      "max_width": null,
      "min_height": null,
      "min_width": null,
      "object_fit": null,
      "object_position": null,
      "order": null,
      "overflow": null,
      "overflow_x": null,
      "overflow_y": null,
      "padding": null,
      "right": null,
      "top": null,
      "visibility": null,
      "width": null
     }
    },
    "76cbe96ee5d84f0fa44b3f9200e6853c": {
     "model_module": "@jupyter-widgets/controls",
     "model_name": "DescriptionStyleModel",
     "state": {
      "_model_module": "@jupyter-widgets/controls",
      "_model_module_version": "1.5.0",
      "_model_name": "DescriptionStyleModel",
      "_view_count": null,
      "_view_module": "@jupyter-widgets/base",
      "_view_module_version": "1.2.0",
      "_view_name": "StyleView",
      "description_width": ""
     }
    },
    "88a4b554fc2d4c99b73c83fa2509ac5f": {
     "model_module": "@jupyter-widgets/controls",
     "model_name": "ButtonModel",
     "state": {
      "_dom_classes": [],
      "_model_module": "@jupyter-widgets/controls",
      "_model_module_version": "1.5.0",
      "_model_name": "ButtonModel",
      "_view_count": null,
      "_view_module": "@jupyter-widgets/controls",
      "_view_module_version": "1.5.0",
      "_view_name": "ButtonView",
      "button_style": "",
      "description": "Answer",
      "disabled": false,
      "icon": "",
      "layout": "IPY_MODEL_364afbfa92de4bff9d2aece312b797ce",
      "style": "IPY_MODEL_5586b13a98354ce5a0847c9e4c40703f",
      "tooltip": ""
     }
    },
    "9d2b439823d9403b83283bd5940fd159": {
     "model_module": "@jupyter-widgets/controls",
     "model_name": "HBoxModel",
     "state": {
      "_dom_classes": [],
      "_model_module": "@jupyter-widgets/controls",
      "_model_module_version": "1.5.0",
      "_model_name": "HBoxModel",
      "_view_count": null,
      "_view_module": "@jupyter-widgets/controls",
      "_view_module_version": "1.5.0",
      "_view_name": "HBoxView",
      "box_style": "",
      "children": [
       "IPY_MODEL_af65aab41c7b43d1a118b042b24547f4",
       "IPY_MODEL_17aa95fac444468daf90981bba1a26a1"
      ],
      "layout": "IPY_MODEL_da28a32b57264c39a90f58a7e654c20b"
     }
    },
    "a8f11069a7874c87aff30cf69a806aff": {
     "model_module": "@jupyter-widgets/controls",
     "model_name": "TextModel",
     "state": {
      "_dom_classes": [],
      "_model_module": "@jupyter-widgets/controls",
      "_model_module_version": "1.5.0",
      "_model_name": "TextModel",
      "_view_count": null,
      "_view_module": "@jupyter-widgets/controls",
      "_view_module_version": "1.5.0",
      "_view_name": "TextView",
      "continuous_update": true,
      "description": "Question",
      "description_tooltip": null,
      "disabled": false,
      "layout": "IPY_MODEL_4f96f88d3c8847a79ec3143bf1ac7679",
      "placeholder": "​",
      "style": "IPY_MODEL_76cbe96ee5d84f0fa44b3f9200e6853c",
      "value": "who says assult on democracy?"
     }
    },
    "af65aab41c7b43d1a118b042b24547f4": {
     "model_module": "@jupyter-widgets/controls",
     "model_name": "TextModel",
     "state": {
      "_dom_classes": [],
      "_model_module": "@jupyter-widgets/controls",
      "_model_module_version": "1.5.0",
      "_model_name": "TextModel",
      "_view_count": null,
      "_view_module": "@jupyter-widgets/controls",
      "_view_module_version": "1.5.0",
      "_view_name": "TextView",
      "continuous_update": true,
      "description": "YOutube link:",
      "description_tooltip": null,
      "disabled": false,
      "layout": "IPY_MODEL_484a6260cba0491b8383cbdd7db4af54",
      "placeholder": "​",
      "style": "IPY_MODEL_3a4e827f8bfe4443ae82fcf12ba9f0dc",
      "value": "https://www.youtube.com/watch?v=DSkcrXMd7fo"
     }
    },
    "da28a32b57264c39a90f58a7e654c20b": {
     "model_module": "@jupyter-widgets/base",
     "model_name": "LayoutModel",
     "state": {
      "_model_module": "@jupyter-widgets/base",
      "_model_module_version": "1.2.0",
      "_model_name": "LayoutModel",
      "_view_count": null,
      "_view_module": "@jupyter-widgets/base",
      "_view_module_version": "1.2.0",
      "_view_name": "LayoutView",
      "align_content": null,
      "align_items": null,
      "align_self": null,
      "border": null,
      "bottom": null,
      "display": null,
      "flex": null,
      "flex_flow": null,
      "grid_area": null,
      "grid_auto_columns": null,
      "grid_auto_flow": null,
      "grid_auto_rows": null,
      "grid_column": null,
      "grid_gap": null,
      "grid_row": null,
      "grid_template_areas": null,
      "grid_template_columns": null,
      "grid_template_rows": null,
      "height": null,
      "justify_content": null,
      "justify_items": null,
      "left": null,
      "margin": null,
      "max_height": null,
      "max_width": null,
      "min_height": null,
      "min_width": null,
      "object_fit": null,
      "object_position": null,
      "order": null,
      "overflow": null,
      "overflow_x": null,
      "overflow_y": null,
      "padding": null,
      "right": null,
      "top": null,
      "visibility": null,
      "width": null
     }
    }
   }
  }
 },
 "nbformat": 4,
 "nbformat_minor": 1
}