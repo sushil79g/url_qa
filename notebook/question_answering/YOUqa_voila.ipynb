{
  "nbformat": 4,
  "nbformat_minor": 0,
  "metadata": {
    "colab": {
      "name": "YOUqa_voila.ipynb",
      "provenance": []
    },
    "kernelspec": {
      "name": "python3",
      "display_name": "Python 3"
    }
  },
  "cells": [
    {
      "cell_type": "code",
      "metadata": {
        "id": "o-1nGb-kBZ0x"
      },
      "source": [
        "!cp drive/MyDrive/project/url_qa.zip .\r\n",
        "!unzip url_qa.zip"
      ],
      "execution_count": null,
      "outputs": []
    },
    {
      "cell_type": "code",
      "metadata": {
        "id": "5jczQh6GBv3q"
      },
      "source": [
        "!pip install pytube\r\n",
        "!pip install farm\r\n",
        "!pip install OmegaConf\r\n",
        "!pip install pyngrok==4.1.1\r\n",
        "!pip install torchaudio\r\n",
        "!pip install soundfile"
      ],
      "execution_count": null,
      "outputs": []
    },
    {
      "cell_type": "code",
      "metadata": {
        "id": "AxH9EEYNBv6n"
      },
      "source": [
        "%cd url_qa/"
      ],
      "execution_count": null,
      "outputs": []
    },
    {
      "cell_type": "code",
      "metadata": {
        "id": "1f6RfjmUBv88"
      },
      "source": [
        "import re\r\n",
        "import streamlit as st\r\n",
        "import time\r\n",
        "\r\n",
        "from src.sst import download_wav_file, extract_text, load_model\r\n",
        "from src.qna import answer_ques\r\n",
        "\r\n",
        "from farm.infer import Inferencer"
      ],
      "execution_count": null,
      "outputs": []
    },
    {
      "cell_type": "code",
      "metadata": {
        "id": "MU-FsubnB4i4"
      },
      "source": [
        "def qna(text, nlp):\r\n",
        "    question = input(\"Enter the question....\")\r\n",
        "    if not question:\r\n",
        "        st.stop()\r\n",
        "    answer = answer_ques(text, question, nlp)\r\n",
        "    return answer"
      ],
      "execution_count": null,
      "outputs": []
    },
    {
      "cell_type": "code",
      "metadata": {
        "id": "pGBDwtqwB4lE"
      },
      "source": [
        "model_name=\"deepset/roberta-base-squad2\"\r\n",
        "model, decoder, utils, device = load_model()\r\n",
        "if device == \"gpu\":\r\n",
        "    nlp = Inferencer.load(model_name, task_type=\"question_answering\", gpu=True)\r\n",
        "else:\r\n",
        "    nlp = Inferencer.load(model_name, task_type=\"question_answering\", gpu=False)\r\n",
        "title = input(\"Enter youtube link\")\r\n",
        "name = re.sub(r'[^\\w\\s]','_',title)+\".wav\"\r\n",
        "text = extract_text(model, decoder, utils, device, title, name)\r\n",
        "# time.sleep(3)\r\n",
        "# answer = qna(text, nlp)\r\n",
        "# print(answer)"
      ],
      "execution_count": null,
      "outputs": []
    },
    {
      "cell_type": "code",
      "metadata": {
        "id": "GnzRYNJ0B4oh"
      },
      "source": [
        "def filter_answer(answer=[]):\r\n",
        "  if answer[0]['score']>5:\r\n",
        "    answer_prob = []\r\n",
        "    for ans in answer:\r\n",
        "      if ans['score'] >=5:\r\n",
        "        answer_prob.append(ans['answer'])\r\n",
        "    return answer_prob\r\n",
        "  else:\r\n",
        "    return answer[0]['answer']"
      ],
      "execution_count": null,
      "outputs": []
    },
    {
      "cell_type": "code",
      "metadata": {
        "id": "E3Ob6nEQBv_d"
      },
      "source": [
        "from pprint import pprint\r\n",
        "answer = qna(text, nlp)\r\n",
        "print(answer)"
      ],
      "execution_count": null,
      "outputs": []
    },
    {
      "cell_type": "code",
      "metadata": {
        "id": "DZoe6rMFB_qo"
      },
      "source": [
        "filter_answer(answer)  "
      ],
      "execution_count": null,
      "outputs": []
    },
    {
      "cell_type": "code",
      "metadata": {
        "id": "023Q-VLyB_uI"
      },
      "source": [
        ""
      ],
      "execution_count": null,
      "outputs": []
    }
  ]
}