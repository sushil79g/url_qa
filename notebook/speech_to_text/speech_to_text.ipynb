{
  "nbformat": 4,
  "nbformat_minor": 0,
  "metadata": {
    "colab": {
      "name": "speech_to_text.ipynb",
      "private_outputs": true,
      "provenance": [],
      "collapsed_sections": [],
      "toc_visible": true,
      "authorship_tag": "ABX9TyPKLJkKbvrCLZWqvmMi+w2y",
      "include_colab_link": true
    },
    "kernelspec": {
      "display_name": "Python 3",
      "name": "python3"
    }
  },
  "cells": [
    {
      "cell_type": "markdown",
      "metadata": {
        "id": "view-in-github",
        "colab_type": "text"
      },
      "source": [
        "<a href=\"https://colab.research.google.com/github/sushil79g/url_qa/blob/dev/notebook/speech_to_text/speech_to_text.ipynb\" target=\"_parent\"><img src=\"https://colab.research.google.com/assets/colab-badge.svg\" alt=\"Open In Colab\"/></a>"
      ]
    },
    {
      "cell_type": "markdown",
      "metadata": {
        "id": "C0Mu0lGpb7fh"
      },
      "source": [
        "# Task break Down\n",
        "\n",
        "1. Download youtube video based on URL\n",
        "2. Convert it into WAV file format"
      ]
    },
    {
      "cell_type": "code",
      "metadata": {
        "id": "1wqCcVtVsNj1"
      },
      "source": [
        "!pip install pytube"
      ],
      "execution_count": null,
      "outputs": []
    },
    {
      "cell_type": "code",
      "metadata": {
        "id": "KlIs6Ni-sOZC"
      },
      "source": [
        "from pytube import YouTube"
      ],
      "execution_count": null,
      "outputs": []
    },
    {
      "cell_type": "code",
      "metadata": {
        "id": "0NufRU39w0nS"
      },
      "source": [
        "URL_LINK = \"https://www.youtube.com/watch?v=aQXY6ABsyj8\""
      ],
      "execution_count": null,
      "outputs": []
    },
    {
      "cell_type": "code",
      "metadata": {
        "id": "xJ3kpVkSBj9G"
      },
      "source": [
        "URL_LINK_1 = \"https://www.youtube.com/watch?v=Jh2NSIvHQUM\""
      ],
      "execution_count": null,
      "outputs": []
    },
    {
      "cell_type": "code",
      "metadata": {
        "id": "gfIR4dgcS_Uu"
      },
      "source": [
        "PODCAST = \"https://www.youtube.com/watch?v=WVPcKah4CbA\""
      ],
      "execution_count": null,
      "outputs": []
    },
    {
      "cell_type": "code",
      "metadata": {
        "id": "QubLbjMSsS4m"
      },
      "source": [
        "yt = YouTube(PODCAST)"
      ],
      "execution_count": null,
      "outputs": []
    },
    {
      "cell_type": "code",
      "metadata": {
        "id": "b4c7EI9rw-Hi"
      },
      "source": [
        "tube_wav = yt.streams.filter(only_audio=True, file_extension='mp4')"
      ],
      "execution_count": null,
      "outputs": []
    },
    {
      "cell_type": "code",
      "metadata": {
        "id": "q75Fu9Ax2ck1"
      },
      "source": [
        "tube_wav[0].download()"
      ],
      "execution_count": null,
      "outputs": []
    },
    {
      "cell_type": "code",
      "metadata": {
        "id": "JyWGIhHo0tA0"
      },
      "source": [
        "!ls"
      ],
      "execution_count": null,
      "outputs": []
    },
    {
      "cell_type": "code",
      "metadata": {
        "id": "xDFUcA4K90nO"
      },
      "source": [
        "import os"
      ],
      "execution_count": null,
      "outputs": []
    },
    {
      "cell_type": "code",
      "metadata": {
        "id": "LuPiqRlb9myp"
      },
      "source": [
        "os.rename(yt.streams.first().default_filename, 'test_file.mp4')"
      ],
      "execution_count": null,
      "outputs": []
    },
    {
      "cell_type": "code",
      "metadata": {
        "id": "UV3FS3VsthZo"
      },
      "source": [
        "!ls"
      ],
      "execution_count": null,
      "outputs": []
    },
    {
      "cell_type": "markdown",
      "metadata": {
        "id": "4NWD3x-alGbL"
      },
      "source": [
        "# Test sound  "
      ]
    },
    {
      "cell_type": "code",
      "metadata": {
        "id": "8NVeeP20lKsR"
      },
      "source": [
        "from IPython.display import Audio"
      ],
      "execution_count": null,
      "outputs": []
    },
    {
      "cell_type": "code",
      "metadata": {
        "id": "umR1wcoh58x3"
      },
      "source": [
        "import os"
      ],
      "execution_count": null,
      "outputs": []
    },
    {
      "cell_type": "code",
      "metadata": {
        "id": "zbTe0_0Ulgs2"
      },
      "source": [
        "Audio(\"test_file.mp4\")"
      ],
      "execution_count": null,
      "outputs": []
    },
    {
      "cell_type": "markdown",
      "metadata": {
        "id": "ZQ9njPBUAMzX"
      },
      "source": [
        "# Speech recgnition library"
      ]
    },
    {
      "cell_type": "markdown",
      "metadata": {
        "id": "c5v-nXRy6gd1"
      },
      "source": [
        "Currently, SpeechRecognition supports the following file formats: \n",
        "  - WAV: must be in PCM/LPCM format\n",
        "  - AIFF\n",
        "  - AIFF-C\n",
        "  - FLAC: must be native FLAC format; OGG-FLAC is not supported"
      ]
    },
    {
      "cell_type": "markdown",
      "metadata": {
        "id": "rAeX4Zb6-N5z"
      },
      "source": [
        "# Converting mp4 file format to wav  or aiff file format"
      ]
    },
    {
      "cell_type": "code",
      "metadata": {
        "id": "QyVo9FRJ-Vt5"
      },
      "source": [
        "command2aiff = \"ffmpeg -i test_file.mp4 test_file.wav\""
      ],
      "execution_count": null,
      "outputs": []
    },
    {
      "cell_type": "code",
      "metadata": {
        "id": "SgfnQFrN-dwC"
      },
      "source": [
        "os.system(command2aiff)"
      ],
      "execution_count": null,
      "outputs": []
    },
    {
      "cell_type": "code",
      "metadata": {
        "id": "0kqK0r5PShBV"
      },
      "source": [
        "!ls"
      ],
      "execution_count": null,
      "outputs": []
    },
    {
      "cell_type": "code",
      "metadata": {
        "id": "yfRM8jyIBEMr"
      },
      "source": [
        "!pip install SpeechRecognition"
      ],
      "execution_count": null,
      "outputs": []
    },
    {
      "cell_type": "code",
      "metadata": {
        "id": "f3eROEw6BFeY"
      },
      "source": [
        "import speech_recognition as sr"
      ],
      "execution_count": null,
      "outputs": []
    },
    {
      "cell_type": "code",
      "metadata": {
        "id": "2IlANlrhBI4c"
      },
      "source": [
        "voice_data = sr.AudioFile('test_file.wav')"
      ],
      "execution_count": null,
      "outputs": []
    },
    {
      "cell_type": "code",
      "metadata": {
        "id": "iKzrrKoZBuVP"
      },
      "source": [
        "recog = sr.Recognizer()"
      ],
      "execution_count": null,
      "outputs": []
    },
    {
      "cell_type": "code",
      "metadata": {
        "id": "AaL6Uv2hCmKe"
      },
      "source": [
        "type(voice_data)"
      ],
      "execution_count": null,
      "outputs": []
    },
    {
      "cell_type": "code",
      "metadata": {
        "id": "RiaQIEmkCJBF"
      },
      "source": [
        "LEN_FRAME = 8\n",
        "text_list =[]\n",
        "with voice_data as source:\n",
        "  for idx in range(0,yt.length,LEN_FRAME):\n",
        "    audio = recog.record(source, duration=LEN_FRAME)\n",
        "    try:\n",
        "      text = recog.recognize_google(audio, language = \"en-UK\")\n",
        "      text_list.append(text)\n",
        "    except:\n",
        "      pass    "
      ],
      "execution_count": null,
      "outputs": []
    },
    {
      "cell_type": "code",
      "metadata": {
        "id": "X-7RYlJmnS5g"
      },
      "source": [
        "\" \".join(text_list)"
      ],
      "execution_count": null,
      "outputs": []
    },
    {
      "cell_type": "markdown",
      "metadata": {
        "id": "ubikmoWjkizN"
      },
      "source": [
        "# Run The Audio for Human Reference and Evaluation"
      ]
    },
    {
      "cell_type": "code",
      "metadata": {
        "id": "SqkAP4dM6iXA"
      },
      "source": [
        "Audio(\"test_file.mp4\")"
      ],
      "execution_count": null,
      "outputs": []
    }
  ]
}